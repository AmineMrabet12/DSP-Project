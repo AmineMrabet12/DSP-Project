{
 "cells": [
  {
   "cell_type": "code",
   "execution_count": 12,
   "metadata": {},
   "outputs": [
    {
     "ename": "AttributeError",
     "evalue": "'NoneType' object has no attribute 'items'",
     "output_type": "error",
     "traceback": [
      "\u001b[0;31m---------------------------------------------------------------------------\u001b[0m",
      "\u001b[0;31mAttributeError\u001b[0m                            Traceback (most recent call last)",
      "Cell \u001b[0;32mIn[12], line 26\u001b[0m\n\u001b[1;32m     19\u001b[0m batch_request \u001b[38;5;241m=\u001b[39m {\n\u001b[1;32m     20\u001b[0m     \u001b[38;5;124m'\u001b[39m\u001b[38;5;124mdatasource_name\u001b[39m\u001b[38;5;124m'\u001b[39m: \u001b[38;5;124m'\u001b[39m\u001b[38;5;124minfected_second_test\u001b[39m\u001b[38;5;124m'\u001b[39m,\n\u001b[1;32m     21\u001b[0m     \u001b[38;5;124m'\u001b[39m\u001b[38;5;124mdata_connector_name\u001b[39m\u001b[38;5;124m'\u001b[39m: \u001b[38;5;124m'\u001b[39m\u001b[38;5;124mdefault_inferred_data_connector_name\u001b[39m\u001b[38;5;124m'\u001b[39m,\n\u001b[1;32m     22\u001b[0m     \u001b[38;5;124m'\u001b[39m\u001b[38;5;124mdata_asset_name\u001b[39m\u001b[38;5;124m'\u001b[39m: os\u001b[38;5;241m.\u001b[39mpath\u001b[38;5;241m.\u001b[39mbasename(file_path),  \u001b[38;5;66;03m# Use filename as data asset name\u001b[39;00m\n\u001b[1;32m     23\u001b[0m }\n\u001b[1;32m     25\u001b[0m \u001b[38;5;66;03m# Test the batch request\u001b[39;00m\n\u001b[0;32m---> 26\u001b[0m batch_list \u001b[38;5;241m=\u001b[39m \u001b[43mcontext\u001b[49m\u001b[38;5;241;43m.\u001b[39;49m\u001b[43mget_batch_list\u001b[49m\u001b[43m(\u001b[49m\u001b[43mbatch_request\u001b[49m\u001b[38;5;241;43m=\u001b[39;49m\u001b[43mbatch_request\u001b[49m\u001b[43m)\u001b[49m\n\u001b[1;32m     27\u001b[0m \u001b[38;5;28;01mif\u001b[39;00m batch_list:\n\u001b[1;32m     28\u001b[0m     \u001b[38;5;28mprint\u001b[39m(\u001b[38;5;124m\"\u001b[39m\u001b[38;5;124mBatch request returned data.\u001b[39m\u001b[38;5;124m\"\u001b[39m)\n",
      "File \u001b[0;32m~/miniforge3/envs/DSP/lib/python3.9/site-packages/great_expectations/core/usage_statistics/usage_statistics.py:287\u001b[0m, in \u001b[0;36musage_statistics_enabled_method.<locals>.usage_statistics_wrapped_method\u001b[0;34m(*args, **kwargs)\u001b[0m\n\u001b[1;32m    285\u001b[0m \u001b[38;5;28;01mtry\u001b[39;00m:\n\u001b[1;32m    286\u001b[0m     \u001b[38;5;28;01mif\u001b[39;00m args_payload_fn \u001b[38;5;129;01mis\u001b[39;00m \u001b[38;5;129;01mnot\u001b[39;00m \u001b[38;5;28;01mNone\u001b[39;00m:\n\u001b[0;32m--> 287\u001b[0m         \u001b[43mnested_update\u001b[49m\u001b[43m(\u001b[49m\u001b[43mevent_payload\u001b[49m\u001b[43m,\u001b[49m\u001b[43m \u001b[49m\u001b[43margs_payload_fn\u001b[49m\u001b[43m(\u001b[49m\u001b[38;5;241;43m*\u001b[39;49m\u001b[43margs\u001b[49m\u001b[43m,\u001b[49m\u001b[43m \u001b[49m\u001b[38;5;241;43m*\u001b[39;49m\u001b[38;5;241;43m*\u001b[39;49m\u001b[43mkwargs\u001b[49m\u001b[43m)\u001b[49m\u001b[43m)\u001b[49m\n\u001b[1;32m    289\u001b[0m     result \u001b[38;5;241m=\u001b[39m func(\u001b[38;5;241m*\u001b[39margs, \u001b[38;5;241m*\u001b[39m\u001b[38;5;241m*\u001b[39mkwargs)\n\u001b[1;32m    290\u001b[0m     message[\u001b[38;5;124m\"\u001b[39m\u001b[38;5;124msuccess\u001b[39m\u001b[38;5;124m\"\u001b[39m] \u001b[38;5;241m=\u001b[39m \u001b[38;5;28;01mTrue\u001b[39;00m\n",
      "File \u001b[0;32m~/miniforge3/envs/DSP/lib/python3.9/site-packages/great_expectations/core/util.py:89\u001b[0m, in \u001b[0;36mnested_update\u001b[0;34m(d, u, dedup, concat_lists)\u001b[0m\n\u001b[1;32m     78\u001b[0m \u001b[38;5;28;01mdef\u001b[39;00m \u001b[38;5;21mnested_update\u001b[39m(\n\u001b[1;32m     79\u001b[0m     d: Union[Iterable, \u001b[38;5;28mdict\u001b[39m],\n\u001b[1;32m     80\u001b[0m     u: Union[Iterable, \u001b[38;5;28mdict\u001b[39m],\n\u001b[1;32m     81\u001b[0m     dedup: \u001b[38;5;28mbool\u001b[39m \u001b[38;5;241m=\u001b[39m \u001b[38;5;28;01mFalse\u001b[39;00m,\n\u001b[1;32m     82\u001b[0m     concat_lists: \u001b[38;5;28mbool\u001b[39m \u001b[38;5;241m=\u001b[39m \u001b[38;5;28;01mTrue\u001b[39;00m,\n\u001b[1;32m     83\u001b[0m ):\n\u001b[1;32m     84\u001b[0m \u001b[38;5;250m    \u001b[39m\u001b[38;5;124;03m\"\"\"\u001b[39;00m\n\u001b[1;32m     85\u001b[0m \u001b[38;5;124;03m    Update d with items from u, recursively and joining elements. By default, list values are\u001b[39;00m\n\u001b[1;32m     86\u001b[0m \u001b[38;5;124;03m    concatenated without de-duplication. If concat_lists is set to False, lists in u (new dict)\u001b[39;00m\n\u001b[1;32m     87\u001b[0m \u001b[38;5;124;03m    will replace those in d (base dict).\u001b[39;00m\n\u001b[1;32m     88\u001b[0m \u001b[38;5;124;03m    \"\"\"\u001b[39;00m\n\u001b[0;32m---> 89\u001b[0m     \u001b[38;5;28;01mfor\u001b[39;00m k, v \u001b[38;5;129;01min\u001b[39;00m \u001b[43mu\u001b[49m\u001b[38;5;241;43m.\u001b[39;49m\u001b[43mitems\u001b[49m():\n\u001b[1;32m     90\u001b[0m         \u001b[38;5;28;01mif\u001b[39;00m \u001b[38;5;28misinstance\u001b[39m(v, Mapping):\n\u001b[1;32m     91\u001b[0m             d[k] \u001b[38;5;241m=\u001b[39m nested_update(d\u001b[38;5;241m.\u001b[39mget(k, {}), v, dedup\u001b[38;5;241m=\u001b[39mdedup)\n",
      "\u001b[0;31mAttributeError\u001b[0m: 'NoneType' object has no attribute 'items'"
     ]
    }
   ],
   "source": [
    "import os\n",
    "import great_expectations as ge\n",
    "\n",
    "# Define paths using current working directory\n",
    "GE_PROJECT_PATH = os.path.join(os.getcwd(), \"../great_expectations/\")\n",
    "RAW_DATA_PATH = os.path.join(os.getcwd(), \"../data/raw-data\")\n",
    "\n",
    "# Initialize the DataContext\n",
    "context = ge.data_context.DataContext(GE_PROJECT_PATH)\n",
    "\n",
    "# Get the file paths (use one of your existing files for testing)\n",
    "file_paths = [\n",
    "    os.path.join(RAW_DATA_PATH, file)\n",
    "    for file in os.listdir(RAW_DATA_PATH)\n",
    "    if file.endswith(\".csv\")\n",
    "]\n",
    "\n",
    "if file_paths:\n",
    "    # Pick the first file for testing\n",
    "    file_path = file_paths[0]\n",
    "\n",
    "    # Create a simple batch request to test\n",
    "    batch_request = {\n",
    "        \"datasource_name\": \"infected_second_test\",\n",
    "        \"data_connector_name\": \"default_inferred_data_connector_name\",\n",
    "        \"data_asset_name\": os.path.basename(\n",
    "            file_path\n",
    "        ),  # Use filename as data asset name\n",
    "    }\n",
    "\n",
    "    # Test the batch request\n",
    "    batch_list = context.get_batch_list(batch_request=batch_request)\n",
    "    if batch_list:\n",
    "        print(\"Batch request returned data.\")\n",
    "    else:\n",
    "        print(\"Batch request returned an empty batch list.\")\n",
    "else:\n",
    "    print(\"No CSV files found.\")"
   ]
  },
  {
   "cell_type": "code",
   "execution_count": 6,
   "metadata": {},
   "outputs": [
    {
     "ename": "AttributeError",
     "evalue": "'NoneType' object has no attribute 'items'",
     "output_type": "error",
     "traceback": [
      "\u001b[0;31m---------------------------------------------------------------------------\u001b[0m",
      "\u001b[0;31mAttributeError\u001b[0m                            Traceback (most recent call last)",
      "Cell \u001b[0;32mIn[6], line 1\u001b[0m\n\u001b[0;32m----> 1\u001b[0m batch_list \u001b[38;5;241m=\u001b[39m \u001b[43mcontext\u001b[49m\u001b[38;5;241;43m.\u001b[39;49m\u001b[43mget_batch_list\u001b[49m\u001b[43m(\u001b[49m\u001b[43mbatch_request\u001b[49m\u001b[38;5;241;43m=\u001b[39;49m\u001b[43mbatch_request\u001b[49m\u001b[43m)\u001b[49m\n\u001b[1;32m      2\u001b[0m \u001b[38;5;28;01mif\u001b[39;00m batch_list:\n\u001b[1;32m      3\u001b[0m     \u001b[38;5;28mprint\u001b[39m(\u001b[38;5;124m\"\u001b[39m\u001b[38;5;124mBatch request returned data.\u001b[39m\u001b[38;5;124m\"\u001b[39m)\n",
      "File \u001b[0;32m~/miniforge3/envs/DSP/lib/python3.9/site-packages/great_expectations/core/usage_statistics/usage_statistics.py:287\u001b[0m, in \u001b[0;36musage_statistics_enabled_method.<locals>.usage_statistics_wrapped_method\u001b[0;34m(*args, **kwargs)\u001b[0m\n\u001b[1;32m    285\u001b[0m \u001b[38;5;28;01mtry\u001b[39;00m:\n\u001b[1;32m    286\u001b[0m     \u001b[38;5;28;01mif\u001b[39;00m args_payload_fn \u001b[38;5;129;01mis\u001b[39;00m \u001b[38;5;129;01mnot\u001b[39;00m \u001b[38;5;28;01mNone\u001b[39;00m:\n\u001b[0;32m--> 287\u001b[0m         \u001b[43mnested_update\u001b[49m\u001b[43m(\u001b[49m\u001b[43mevent_payload\u001b[49m\u001b[43m,\u001b[49m\u001b[43m \u001b[49m\u001b[43margs_payload_fn\u001b[49m\u001b[43m(\u001b[49m\u001b[38;5;241;43m*\u001b[39;49m\u001b[43margs\u001b[49m\u001b[43m,\u001b[49m\u001b[43m \u001b[49m\u001b[38;5;241;43m*\u001b[39;49m\u001b[38;5;241;43m*\u001b[39;49m\u001b[43mkwargs\u001b[49m\u001b[43m)\u001b[49m\u001b[43m)\u001b[49m\n\u001b[1;32m    289\u001b[0m     result \u001b[38;5;241m=\u001b[39m func(\u001b[38;5;241m*\u001b[39margs, \u001b[38;5;241m*\u001b[39m\u001b[38;5;241m*\u001b[39mkwargs)\n\u001b[1;32m    290\u001b[0m     message[\u001b[38;5;124m\"\u001b[39m\u001b[38;5;124msuccess\u001b[39m\u001b[38;5;124m\"\u001b[39m] \u001b[38;5;241m=\u001b[39m \u001b[38;5;28;01mTrue\u001b[39;00m\n",
      "File \u001b[0;32m~/miniforge3/envs/DSP/lib/python3.9/site-packages/great_expectations/core/util.py:89\u001b[0m, in \u001b[0;36mnested_update\u001b[0;34m(d, u, dedup, concat_lists)\u001b[0m\n\u001b[1;32m     78\u001b[0m \u001b[38;5;28;01mdef\u001b[39;00m \u001b[38;5;21mnested_update\u001b[39m(\n\u001b[1;32m     79\u001b[0m     d: Union[Iterable, \u001b[38;5;28mdict\u001b[39m],\n\u001b[1;32m     80\u001b[0m     u: Union[Iterable, \u001b[38;5;28mdict\u001b[39m],\n\u001b[1;32m     81\u001b[0m     dedup: \u001b[38;5;28mbool\u001b[39m \u001b[38;5;241m=\u001b[39m \u001b[38;5;28;01mFalse\u001b[39;00m,\n\u001b[1;32m     82\u001b[0m     concat_lists: \u001b[38;5;28mbool\u001b[39m \u001b[38;5;241m=\u001b[39m \u001b[38;5;28;01mTrue\u001b[39;00m,\n\u001b[1;32m     83\u001b[0m ):\n\u001b[1;32m     84\u001b[0m \u001b[38;5;250m    \u001b[39m\u001b[38;5;124;03m\"\"\"\u001b[39;00m\n\u001b[1;32m     85\u001b[0m \u001b[38;5;124;03m    Update d with items from u, recursively and joining elements. By default, list values are\u001b[39;00m\n\u001b[1;32m     86\u001b[0m \u001b[38;5;124;03m    concatenated without de-duplication. If concat_lists is set to False, lists in u (new dict)\u001b[39;00m\n\u001b[1;32m     87\u001b[0m \u001b[38;5;124;03m    will replace those in d (base dict).\u001b[39;00m\n\u001b[1;32m     88\u001b[0m \u001b[38;5;124;03m    \"\"\"\u001b[39;00m\n\u001b[0;32m---> 89\u001b[0m     \u001b[38;5;28;01mfor\u001b[39;00m k, v \u001b[38;5;129;01min\u001b[39;00m \u001b[43mu\u001b[49m\u001b[38;5;241;43m.\u001b[39;49m\u001b[43mitems\u001b[49m():\n\u001b[1;32m     90\u001b[0m         \u001b[38;5;28;01mif\u001b[39;00m \u001b[38;5;28misinstance\u001b[39m(v, Mapping):\n\u001b[1;32m     91\u001b[0m             d[k] \u001b[38;5;241m=\u001b[39m nested_update(d\u001b[38;5;241m.\u001b[39mget(k, {}), v, dedup\u001b[38;5;241m=\u001b[39mdedup)\n",
      "\u001b[0;31mAttributeError\u001b[0m: 'NoneType' object has no attribute 'items'"
     ]
    }
   ],
   "source": [
    "batch_list = context.get_batch_list(batch_request=batch_request)\n",
    "if batch_list:\n",
    "    print(\"Batch request returned data.\")\n",
    "else:\n",
    "    print(\"Batch request returned an empty batch list.\")"
   ]
  },
  {
   "cell_type": "code",
   "execution_count": null,
   "metadata": {},
   "outputs": [],
   "source": []
  }
 ],
 "metadata": {
  "kernelspec": {
   "display_name": "DSP",
   "language": "python",
   "name": "python3"
  },
  "language_info": {
   "codemirror_mode": {
    "name": "ipython",
    "version": 3
   },
   "file_extension": ".py",
   "mimetype": "text/x-python",
   "name": "python",
   "nbconvert_exporter": "python",
   "pygments_lexer": "ipython3",
   "version": "3.9.18"
  }
 },
 "nbformat": 4,
 "nbformat_minor": 2
}
