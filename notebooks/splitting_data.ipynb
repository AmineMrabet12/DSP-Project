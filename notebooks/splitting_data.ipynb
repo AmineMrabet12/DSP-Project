{
 "cells": [
  {
   "cell_type": "code",
   "execution_count": 30,
   "metadata": {},
   "outputs": [
    {
     "name": "stdout",
     "output_type": "stream",
     "text": [
      "File 1 created with 705 rows.\n",
      "File 2 created with 705 rows.\n",
      "File 3 created with 705 rows.\n",
      "File 4 created with 705 rows.\n",
      "File 5 created with 705 rows.\n",
      "File 6 created with 705 rows.\n",
      "File 7 created with 705 rows.\n",
      "File 8 created with 705 rows.\n",
      "File 9 created with 705 rows.\n",
      "File 10 created with 705 rows.\n"
     ]
    }
   ],
   "source": [
    "import pandas as pd\n",
    "import math\n",
    "\n",
    "\n",
    "# df = pd.read_csv('data/WA_Fn-UseC_-Telco-Customer-Churn.csv')\n",
    "\n",
    "def split_data_into_files(data_path, output_dir, num_files):\n",
    "    df = pd.read_csv(data_path)\n",
    "    rows_per_file = math.ceil(len(df) / num_files)\n",
    "    \n",
    "    for i in range(num_files):\n",
    "        start_idx = i * rows_per_file\n",
    "        end_idx = start_idx + rows_per_file\n",
    "        chunk = df[start_idx:end_idx]\n",
    "        \n",
    "        # Save the chunk to a CSV file\n",
    "        chunk.to_csv(f'{output_dir}/data_part_{i + 1}.csv', index=False)\n",
    "        print(f\"File {i + 1} created with {len(chunk)} rows.\")\n",
    "\n",
    "# Specify how many files you want\n",
    "num_files = 10\n",
    "data_path = '../data/infected_dataset.csv'\n",
    "# data_path = '../data/churn.csv'\n",
    "output_dir = '../data/raw-data'\n",
    "# Call the function to split the data\n",
    "split_data_into_files(data_path, output_dir, num_files) "
   ]
  },
  {
   "cell_type": "code",
   "execution_count": null,
   "metadata": {},
   "outputs": [],
   "source": []
  }
 ],
 "metadata": {
  "kernelspec": {
   "display_name": "DSP",
   "language": "python",
   "name": "python3"
  },
  "language_info": {
   "codemirror_mode": {
    "name": "ipython",
    "version": 3
   },
   "file_extension": ".py",
   "mimetype": "text/x-python",
   "name": "python",
   "nbconvert_exporter": "python",
   "pygments_lexer": "ipython3",
   "version": "3.9.18"
  }
 },
 "nbformat": 4,
 "nbformat_minor": 2
}
